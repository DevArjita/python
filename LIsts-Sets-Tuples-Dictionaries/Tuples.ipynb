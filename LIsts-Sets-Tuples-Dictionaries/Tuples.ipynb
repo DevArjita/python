{
 "cells": [
  {
   "cell_type": "markdown",
   "metadata": {},
   "source": [
    "### Python Tuples\n",
    "\n",
    "\n",
    "Tuples are ordered collection of data items. They store multiple items in a single variable. Tuple items are separated by commas and enclosed within round brackets (). Tuples are unchangeable meaning we can not alter them after creation."
   ]
  },
  {
   "cell_type": "code",
   "execution_count": 1,
   "metadata": {},
   "outputs": [
    {
     "name": "stdout",
     "output_type": "stream",
     "text": [
      "(1, 2, 2, 3, 5, 4, 6)\n",
      "('Red', 'Green', 'Blue')\n"
     ]
    }
   ],
   "source": [
    "tuple1 = (1,2,2,3,5,4,6)\n",
    "tuple2 = (\"Red\", \"Green\", \"Blue\")\n",
    "print(tuple1)\n",
    "print(tuple2)"
   ]
  },
  {
   "cell_type": "code",
   "execution_count": 2,
   "metadata": {},
   "outputs": [
    {
     "name": "stdout",
     "output_type": "stream",
     "text": [
      "('Abhijeet', 18, 'FYBScIT', 9.8)\n"
     ]
    }
   ],
   "source": [
    "details = (\"Abhijeet\", 18, \"FYBScIT\", 9.8)\n",
    "print(details)"
   ]
  },
  {
   "cell_type": "markdown",
   "metadata": {},
   "source": [
    "Manipulating Tuples:\n",
    "\n",
    "\n",
    "Tuples are immutable, hence if you want to add, remove or change tuple items, then first you must convert the tuple to a list. Then perform operation on that list and convert it back to tuple."
   ]
  },
  {
   "cell_type": "code",
   "execution_count": 3,
   "metadata": {},
   "outputs": [
    {
     "name": "stdout",
     "output_type": "stream",
     "text": [
      "('Spain', 'Italy', 'Finland', 'Germany', 'Russia')\n"
     ]
    }
   ],
   "source": [
    "countries = (\"Spain\", \"Italy\", \"India\", \"England\", \"Germany\")\n",
    "temp = list(countries)\n",
    "temp.append(\"Russia\")       #add item \n",
    "temp.pop(3)                 #remove item\n",
    "temp[2] = \"Finland\"         #change item\n",
    "countries = tuple(temp)\n",
    "print(countries)"
   ]
  },
  {
   "cell_type": "markdown",
   "metadata": {},
   "source": [
    "Thus, we convert the tuple to a list, manipulate items of the list using list methods, then convert list back to a tuple.\n",
    "\n",
    "However, we can directly concatenate two tuples without converting them to list."
   ]
  },
  {
   "cell_type": "code",
   "execution_count": 4,
   "metadata": {},
   "outputs": [
    {
     "name": "stdout",
     "output_type": "stream",
     "text": [
      "('Pakistan', 'Afghanistan', 'Bangladesh', 'ShriLanka', 'Vietnam', 'India', 'China')\n"
     ]
    }
   ],
   "source": [
    "countries = (\"Pakistan\", \"Afghanistan\", \"Bangladesh\", \"ShriLanka\")\n",
    "countries2 = (\"Vietnam\", \"India\", \"China\")\n",
    "southEastAsia = countries + countries2\n",
    "print(southEastAsia)"
   ]
  },
  {
   "cell_type": "markdown",
   "metadata": {},
   "source": [
    "String formatting in python\n",
    "String formatting can be done in python using the format method.\n"
   ]
  },
  {
   "cell_type": "code",
   "execution_count": 5,
   "metadata": {},
   "outputs": [
    {
     "name": "stdout",
     "output_type": "stream",
     "text": [
      "For only 49.00 dollars!\n"
     ]
    }
   ],
   "source": [
    "txt = \"For only {price:.2f} dollars!\"\n",
    "print(txt.format(price = 49))"
   ]
  },
  {
   "cell_type": "markdown",
   "metadata": {},
   "source": [
    "\n",
    "f-strings in python\n",
    "It is a new string formatting mechanism introduced by the PEP 498. It is also known as Literal String Interpolation or more commonly as F-strings (f character preceding the string literal). The primary focus of this mechanism is to make the interpolation easier.\n",
    "\n",
    "When we prefix the string with the letter 'f', the string becomes the f-string itself. The f-string can be formatted in much same as the str.format() method. The f-string offers a convenient way to embed Python expression inside string literals for formatting."
   ]
  },
  {
   "cell_type": "code",
   "execution_count": 6,
   "metadata": {},
   "outputs": [
    {
     "name": "stdout",
     "output_type": "stream",
     "text": [
      "GeeksforGeeks is a portal for Geeks.\n",
      "Hello, My name is Tushar and I'm 23 years old.\n"
     ]
    }
   ],
   "source": [
    "val = 'Geeks'  \n",
    "print(f\"{val}for{val} is a portal for {val}.\")  \n",
    "name = 'Tushar'  \n",
    "age = 23  \n",
    "print(f\"Hello, My name is {name} and I'm {age} years old.\")"
   ]
  },
  {
   "cell_type": "code",
   "execution_count": 9,
   "metadata": {},
   "outputs": [
    {
     "name": "stdout",
     "output_type": "stream",
     "text": [
      "60\n"
     ]
    }
   ],
   "source": [
    "print(f\"{2 * 30}\")"
   ]
  },
  {
   "cell_type": "code",
   "execution_count": null,
   "metadata": {},
   "outputs": [],
   "source": []
  }
 ],
 "metadata": {
  "kernelspec": {
   "display_name": "Python 3",
   "language": "python",
   "name": "python3"
  },
  "language_info": {
   "codemirror_mode": {
    "name": "ipython",
    "version": 3
   },
   "file_extension": ".py",
   "mimetype": "text/x-python",
   "name": "python",
   "nbconvert_exporter": "python",
   "pygments_lexer": "ipython3",
   "version": "3.10.13"
  }
 },
 "nbformat": 4,
 "nbformat_minor": 2
}
