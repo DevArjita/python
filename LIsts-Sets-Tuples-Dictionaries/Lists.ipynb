{
 "cells": [
  {
   "cell_type": "code",
   "execution_count": 1,
   "metadata": {},
   "outputs": [],
   "source": [
    "def average(a, b, c=1):\n",
    "  print(\"The average is \", (a + b + c) / 2)"
   ]
  },
  {
   "cell_type": "code",
   "execution_count": 4,
   "metadata": {},
   "outputs": [
    {
     "name": "stdout",
     "output_type": "stream",
     "text": [
      "Average is:  45.0\n",
      "Average is:  106.5\n",
      "Average is:  4.75\n",
      "4.75\n"
     ]
    }
   ],
   "source": [
    "\n",
    "def average(*numbers):\n",
    "  # print(type(numbers))\n",
    "  sum = 0\n",
    "  for i in numbers:\n",
    "    sum = sum + i\n",
    "  print(\"Average is: \", sum / len(numbers))\n",
    "  \n",
    "  return sum / len(numbers)\n",
    "\n",
    "\n",
    "average(44, 46)\n",
    "average(99,114)\n",
    "\n",
    "c = average(5, 6, 7, 1)\n",
    "print(c)"
   ]
  },
  {
   "cell_type": "code",
   "execution_count": 5,
   "metadata": {},
   "outputs": [
    {
     "name": "stdout",
     "output_type": "stream",
     "text": [
      "Hello, James Buchanan Barnes\n"
     ]
    }
   ],
   "source": [
    "\n",
    "def name(**name):\n",
    "  # print(type(name))\n",
    "  print(\"Hello,\", name[\"fname\"], name[\"mname\"], name[\"lname\"])\n",
    "\n",
    "\n",
    "name(mname=\"Buchanan\", lname=\"Barnes\", fname=\"James\")"
   ]
  },
  {
   "cell_type": "markdown",
   "metadata": {},
   "source": [
    "### List Methods"
   ]
  },
  {
   "cell_type": "markdown",
   "metadata": {},
   "source": [
    "list.sort()\n",
    "This method sorts the list in ascending order. The original list is updated"
   ]
  },
  {
   "cell_type": "code",
   "execution_count": 6,
   "metadata": {},
   "outputs": [
    {
     "name": "stdout",
     "output_type": "stream",
     "text": [
      "['blue', 'green', 'indigo', 'voilet']\n",
      "[1, 1, 2, 2, 2, 3, 4, 5, 6, 7, 8, 9]\n"
     ]
    }
   ],
   "source": [
    "colors = [\"voilet\", \"indigo\", \"blue\", \"green\"]\n",
    "colors.sort()\n",
    "print(colors)\n",
    "\n",
    "num = [4,2,5,3,6,1,2,1,2,8,9,7]\n",
    "num.sort()\n",
    "print(num)"
   ]
  },
  {
   "cell_type": "markdown",
   "metadata": {},
   "source": [
    "What if you want to print the list in descending order?\n",
    "We must give reverse=True as a parameter in the sort method."
   ]
  },
  {
   "cell_type": "code",
   "execution_count": 7,
   "metadata": {},
   "outputs": [
    {
     "name": "stdout",
     "output_type": "stream",
     "text": [
      "['voilet', 'indigo', 'green', 'blue']\n",
      "[9, 8, 7, 6, 5, 4, 3, 2, 2, 2, 1, 1]\n"
     ]
    }
   ],
   "source": [
    "colors = [\"voilet\", \"indigo\", \"blue\", \"green\"]\n",
    "colors.sort(reverse=True)\n",
    "print(colors)\n",
    "\n",
    "num = [4,2,5,3,6,1,2,1,2,8,9,7]\n",
    "num.sort(reverse=True)\n",
    "print(num)"
   ]
  },
  {
   "cell_type": "markdown",
   "metadata": {},
   "source": [
    "reverse()\n",
    "This method reverses the order of the list."
   ]
  },
  {
   "cell_type": "code",
   "execution_count": 8,
   "metadata": {},
   "outputs": [
    {
     "name": "stdout",
     "output_type": "stream",
     "text": [
      "['green', 'blue', 'indigo', 'voilet']\n",
      "[7, 9, 8, 2, 1, 2, 1, 6, 3, 5, 2, 4]\n"
     ]
    }
   ],
   "source": [
    "colors = [\"voilet\", \"indigo\", \"blue\", \"green\"]\n",
    "colors.reverse()\n",
    "print(colors)\n",
    "\n",
    "num = [4,2,5,3,6,1,2,1,2,8,9,7]\n",
    "num.reverse()\n",
    "print(num)"
   ]
  },
  {
   "cell_type": "markdown",
   "metadata": {},
   "source": [
    "count()\n",
    "Returns the count of the number of items with the given value."
   ]
  },
  {
   "cell_type": "code",
   "execution_count": 9,
   "metadata": {},
   "outputs": [
    {
     "name": "stdout",
     "output_type": "stream",
     "text": [
      "2\n"
     ]
    }
   ],
   "source": [
    "colors = [\"voilet\", \"green\", \"indigo\", \"blue\", \"green\"]\n",
    "print(colors.count(\"green\"))\n",
    "\n",
    "num = [4,2,5,3,6,1,2,1,3,2,8,9,7]"
   ]
  },
  {
   "cell_type": "markdown",
   "metadata": {},
   "source": [
    "copy()\n",
    "Returns copy of the list. This can be done to perform operations on the list without modifying the original list."
   ]
  },
  {
   "cell_type": "code",
   "execution_count": 10,
   "metadata": {},
   "outputs": [
    {
     "name": "stdout",
     "output_type": "stream",
     "text": [
      "['voilet', 'green', 'indigo', 'blue']\n",
      "['voilet', 'green', 'indigo', 'blue']\n"
     ]
    }
   ],
   "source": [
    "colors = [\"voilet\", \"green\", \"indigo\", \"blue\"]\n",
    "newlist = colors.copy()\n",
    "print(colors)\n",
    "print(newlist)"
   ]
  },
  {
   "cell_type": "markdown",
   "metadata": {},
   "source": [
    "append():\n",
    "This method appends items to the end of the existing list."
   ]
  },
  {
   "cell_type": "code",
   "execution_count": 11,
   "metadata": {},
   "outputs": [
    {
     "name": "stdout",
     "output_type": "stream",
     "text": [
      "['voilet', 'indigo', 'blue', 'green']\n"
     ]
    }
   ],
   "source": [
    "colors = [\"voilet\", \"indigo\", \"blue\"]\n",
    "colors.append(\"green\")\n",
    "print(colors)"
   ]
  },
  {
   "cell_type": "markdown",
   "metadata": {},
   "source": [
    "insert():\n",
    "This method inserts an item at the given index. User has to specify index and the item to be inserted within the insert() method."
   ]
  },
  {
   "cell_type": "code",
   "execution_count": 12,
   "metadata": {},
   "outputs": [
    {
     "name": "stdout",
     "output_type": "stream",
     "text": [
      "['voilet', 'green', 'indigo', 'blue']\n"
     ]
    }
   ],
   "source": [
    "colors = [\"voilet\", \"indigo\", \"blue\"]\n",
    "#           [0]        [1]      [2]\n",
    "\n",
    "colors.insert(1, \"green\")   #inserts item at index 1\n",
    "# updated list: colors = [\"voilet\", \"green\", \"indigo\", \"blue\"]\n",
    "#       indexs              [0]       [1]       [2]      [3]\n",
    "\n",
    "print(colors)"
   ]
  },
  {
   "cell_type": "markdown",
   "metadata": {},
   "source": [
    "extend():\n",
    "This method adds an entire list or any other collection datatype (set, tuple, dictionary) to the existing list."
   ]
  },
  {
   "cell_type": "code",
   "execution_count": 13,
   "metadata": {},
   "outputs": [
    {
     "name": "stdout",
     "output_type": "stream",
     "text": [
      "['voilet', 'indigo', 'blue', 'green', 'yellow', 'orange', 'red']\n"
     ]
    }
   ],
   "source": [
    "#add a list to a list\n",
    "colors = [\"voilet\", \"indigo\", \"blue\"]\n",
    "rainbow = [\"green\", \"yellow\", \"orange\", \"red\"]\n",
    "colors.extend(rainbow)\n",
    "print(colors)"
   ]
  },
  {
   "cell_type": "markdown",
   "metadata": {},
   "source": [
    "Concatenating two lists:\n",
    "You can simply concatenate two lists to join two lists."
   ]
  },
  {
   "cell_type": "code",
   "execution_count": 14,
   "metadata": {},
   "outputs": [
    {
     "name": "stdout",
     "output_type": "stream",
     "text": [
      "['voilet', 'indigo', 'blue', 'green', 'yellow', 'orange', 'red']\n"
     ]
    }
   ],
   "source": [
    "colors = [\"voilet\", \"indigo\", \"blue\", \"green\"]\n",
    "colors2 = [\"yellow\", \"orange\", \"red\"]\n",
    "print(colors + colors2)"
   ]
  },
  {
   "cell_type": "code",
   "execution_count": null,
   "metadata": {},
   "outputs": [],
   "source": []
  }
 ],
 "metadata": {
  "kernelspec": {
   "display_name": "Python 3",
   "language": "python",
   "name": "python3"
  },
  "language_info": {
   "codemirror_mode": {
    "name": "ipython",
    "version": 3
   },
   "file_extension": ".py",
   "mimetype": "text/x-python",
   "name": "python",
   "nbconvert_exporter": "python",
   "pygments_lexer": "ipython3",
   "version": "3.10.13"
  }
 },
 "nbformat": 4,
 "nbformat_minor": 2
}
