{
 "cells": [
  {
   "cell_type": "code",
   "execution_count": 2,
   "metadata": {},
   "outputs": [
    {
     "name": "stdout",
     "output_type": "stream",
     "text": [
      "Hello World 7\n",
      "5\n",
      "Bye\n",
      "221\n"
     ]
    }
   ],
   "source": [
    "print(\"Hello World\", 7)\n",
    "print(5)\n",
    "print(\"Bye\")\n",
    "print(17*13)"
   ]
  },
  {
   "cell_type": "code",
   "execution_count": 3,
   "metadata": {},
   "outputs": [
    {
     "name": "stdout",
     "output_type": "stream",
     "text": [
      "(8+2j)\n",
      "True\n"
     ]
    }
   ],
   "source": [
    "a = complex(8, 2)\n",
    "b = True\n",
    "c = \"Harry\"\n",
    "d = None\n",
    "\n",
    "print(a)\n",
    "print(b)"
   ]
  },
  {
   "cell_type": "code",
   "execution_count": 4,
   "metadata": {},
   "outputs": [
    {
     "name": "stdout",
     "output_type": "stream",
     "text": [
      "(17+2j)\n",
      "The type of a is  <class 'complex'>\n",
      "The type of b is  <class 'bool'>\n",
      "The type of c is  <class 'str'>\n"
     ]
    }
   ],
   "source": [
    "a1 = 9\n",
    "print(a + a1)\n",
    "print(\"The type of a is \", type(a))\n",
    "print(\"The type of b is \", type(b))\n",
    "print(\"The type of c is \", type(c))"
   ]
  },
  {
   "cell_type": "code",
   "execution_count": 5,
   "metadata": {},
   "outputs": [
    {
     "name": "stdout",
     "output_type": "stream",
     "text": [
      "[8, 2.3, [-4, 5], ['apple', 'banana']]\n",
      "(('parrot', 'sparrow'), ('Lion', 'Tiger'))\n",
      "{'name': 'Sakshi', 'age': 20, 'canVote': True}\n"
     ]
    }
   ],
   "source": [
    "\n",
    "list1 = [8, 2.3, [-4, 5], [\"apple\", \"banana\"]]\n",
    "print(list1)\n",
    "\n",
    "tuple1 = ((\"parrot\", \"sparrow\"), (\"Lion\", \"Tiger\"))\n",
    "print(tuple1)\n",
    "\n",
    "dict1 = {\"name\":\"Sakshi\", \"age\":20, \"canVote\":True}\n",
    "print(dict1)"
   ]
  },
  {
   "cell_type": "markdown",
   "metadata": {},
   "source": [
    "Arithmetic Operators"
   ]
  },
  {
   "cell_type": "code",
   "execution_count": 8,
   "metadata": {},
   "outputs": [
    {
     "name": "stdout",
     "output_type": "stream",
     "text": [
      "11\n",
      "9\n",
      "90\n",
      "2.5\n",
      "2\n",
      "2\n",
      "16\n"
     ]
    }
   ],
   "source": [
    "print(5+6)\n",
    "print(15-6)\n",
    "print(15*6)\n",
    "print(15/6)\n",
    "print(15//6)\n",
    "print(5%3)\n",
    "print(2**4)"
   ]
  },
  {
   "cell_type": "code",
   "execution_count": 9,
   "metadata": {},
   "outputs": [
    {
     "name": "stdout",
     "output_type": "stream",
     "text": [
      "3\n",
      "9.9\n"
     ]
    }
   ],
   "source": [
    "#TypeCasting in Python\n",
    "# TypeCasting basically means to maipulate the datatype of one variable to another variable\n",
    "\n",
    "\n",
    "a = \"1\"\n",
    "# a = 1\n",
    "b = \"2\"\n",
    "# b = 2\n",
    "print(int(a) + int(b))\n",
    "\n",
    "# Implicit TypeCasting\n",
    "c = 1.9\n",
    "d = 8\n",
    "\n",
    "print(c + d)"
   ]
  },
  {
   "cell_type": "markdown",
   "metadata": {},
   "source": [
    "Taking user input in python"
   ]
  },
  {
   "cell_type": "code",
   "execution_count": 14,
   "metadata": {},
   "outputs": [
    {
     "name": "stdout",
     "output_type": "stream",
     "text": [
      "My name is Arjita\n",
      "1465\n",
      "79\n"
     ]
    }
   ],
   "source": [
    "a = input(\"Enter your name: \")\n",
    "print(\"My name is\", a)\n",
    "\n",
    "x = input(\"Enter first number: \")\n",
    "\n",
    "y = input(\"Enter second number: \")\n",
    "print(x + y) #Here input is taken in string format and also + is used for concatenation\n",
    "\n",
    "print(int(x) + int(y)) #Here the string got converted to integer and then got added"
   ]
  },
  {
   "cell_type": "markdown",
   "metadata": {},
   "source": [
    "Strings in Python"
   ]
  },
  {
   "cell_type": "code",
   "execution_count": 15,
   "metadata": {},
   "outputs": [
    {
     "name": "stdout",
     "output_type": "stream",
     "text": [
      "Hello, Harry\n",
      "H\n",
      "a\n",
      "r\n",
      "r\n",
      "y\n",
      "Lets use a for loop\n",
      "\n",
      "H\n",
      "e\n",
      " \n",
      "s\n",
      "a\n",
      "i\n",
      "d\n",
      ",\n",
      " \n",
      "\n",
      "\n",
      "H\n",
      "i\n",
      " \n",
      "H\n",
      "a\n",
      "r\n",
      "r\n",
      "y\n",
      "\n",
      "\n",
      "h\n",
      "e\n",
      "y\n",
      " \n",
      "I\n",
      " \n",
      "a\n",
      "m\n",
      " \n",
      "g\n",
      "o\n",
      "o\n",
      "d\n",
      "\n",
      "\n",
      "\"\n",
      "I\n",
      " \n",
      "w\n",
      "a\n",
      "n\n",
      "t\n",
      " \n",
      "t\n",
      "o\n",
      " \n",
      "e\n",
      "a\n",
      "t\n",
      " \n",
      "a\n",
      "n\n",
      " \n",
      "a\n",
      "p\n",
      "p\n",
      "l\n",
      "e\n"
     ]
    }
   ],
   "source": [
    "name = \"Harry\"\n",
    "friend = \"Rohan\"\n",
    "anotherFriend = 'Lovish'\n",
    "apple = '''He said, \n",
    "Hi Harry\n",
    "hey I am good\n",
    "\"I want to eat an apple'''\n",
    " \n",
    "print(\"Hello, \" + name)\n",
    "# print(apple) \n",
    "print(name[0])\n",
    "print(name[1])\n",
    "print(name[2])\n",
    "print(name[3])\n",
    "print(name[4])\n",
    "# print(name[5]) # Throws an error\n",
    "print(\"Lets use a for loop\\n\")\n",
    "for character in apple:\n",
    "    print(character)"
   ]
  },
  {
   "cell_type": "markdown",
   "metadata": {},
   "source": [
    "Strings Slicing"
   ]
  },
  {
   "cell_type": "code",
   "execution_count": 16,
   "metadata": {},
   "outputs": [
    {
     "name": "stdout",
     "output_type": "stream",
     "text": [
      "5\n",
      "\n",
      "ng\n"
     ]
    }
   ],
   "source": [
    "fruit = \"Mango\"\n",
    "mangoLen = len(fruit)\n",
    "print(mangoLen)\n",
    "# print(fruit[0:4]) # including 0 but not 4\n",
    "# print(fruit[1:4]) # including 1 but not 4\n",
    "# print(fruit[:5])\n",
    "# print(fruit[0:-3])\n",
    "# print(fruit[:len(fruit)-3])\n",
    "print(fruit[-1:len(fruit) - 3])\n",
    "print(fruit[-3:-1])\n",
    "\n",
    "# Quick Quiz:\n",
    "# nm = \"Harry\"\n",
    "# print(nm[-4:-2])\n",
    "# @codewithharry\n"
   ]
  },
  {
   "cell_type": "markdown",
   "metadata": {},
   "source": [
    "If else Conditions"
   ]
  },
  {
   "cell_type": "code",
   "execution_count": 18,
   "metadata": {},
   "outputs": [
    {
     "name": "stdout",
     "output_type": "stream",
     "text": [
      "Your age is: 19\n"
     ]
    }
   ],
   "source": [
    "a = int(input(\"Enter your age: \"))\n",
    "print(\"Your age is:\", a)"
   ]
  },
  {
   "cell_type": "code",
   "execution_count": 19,
   "metadata": {},
   "outputs": [
    {
     "name": "stdout",
     "output_type": "stream",
     "text": [
      "True\n",
      "False\n",
      "False\n",
      "True\n"
     ]
    }
   ],
   "source": [
    "# Conditional operators \n",
    "# >, <, >=, <=, ==, !=\n",
    "print(a>18)\n",
    "print(a<=18)\n",
    "print(a==18)\n",
    "print(a!=18)"
   ]
  },
  {
   "cell_type": "code",
   "execution_count": 20,
   "metadata": {},
   "outputs": [
    {
     "name": "stdout",
     "output_type": "stream",
     "text": [
      "You can drive\n",
      "Yes\n"
     ]
    }
   ],
   "source": [
    "if(a>18):\n",
    "  print(\"You can drive\")\n",
    "  print(\"Yes\")\n",
    "else:\n",
    "  print(\"You cannot drive\")\n",
    "  print(\"No\")\n",
    "  print(\"Yay!\")"
   ]
  },
  {
   "cell_type": "code",
   "execution_count": 6,
   "metadata": {},
   "outputs": [
    {
     "name": "stdout",
     "output_type": "stream",
     "text": [
      "[1, 2, 3, 4]\n"
     ]
    }
   ],
   "source": [
    "list = [1,2,3,4]\n",
    "print(list)"
   ]
  },
  {
   "cell_type": "code",
   "execution_count": 7,
   "metadata": {},
   "outputs": [
    {
     "name": "stdout",
     "output_type": "stream",
     "text": [
      "[1, 2, 3, 4, 5]\n"
     ]
    }
   ],
   "source": [
    "list.append(5)\n",
    "print(list)"
   ]
  },
  {
   "cell_type": "code",
   "execution_count": null,
   "metadata": {},
   "outputs": [],
   "source": []
  }
 ],
 "metadata": {
  "kernelspec": {
   "display_name": "Python 3",
   "language": "python",
   "name": "python3"
  },
  "language_info": {
   "codemirror_mode": {
    "name": "ipython",
    "version": 3
   },
   "file_extension": ".py",
   "mimetype": "text/x-python",
   "name": "python",
   "nbconvert_exporter": "python",
   "pygments_lexer": "ipython3",
   "version": "3.10.13"
  }
 },
 "nbformat": 4,
 "nbformat_minor": 2
}
